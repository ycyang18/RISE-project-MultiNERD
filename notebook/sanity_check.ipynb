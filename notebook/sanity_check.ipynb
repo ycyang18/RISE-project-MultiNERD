{
 "cells": [
  {
   "cell_type": "code",
   "execution_count": 5,
   "metadata": {},
   "outputs": [],
   "source": [
    "from settings import *\n",
    "\n",
    "from data import *"
   ]
  },
  {
   "cell_type": "code",
   "execution_count": 8,
   "metadata": {},
   "outputs": [
    {
     "name": "stderr",
     "output_type": "stream",
     "text": [
      "100%|██████████| 16454/16454 [00:16<00:00, 1025.65it/s]\n"
     ]
    }
   ],
   "source": [
    "dataset = MultiNERDDataset(lang='en', split='test', label_set=SELECTED_TAGS, max_len=72)\n",
    "all_idx2label = {ALL_TAGS[k]: k for k in ALL_TAGS}\n",
    "sel_idx2label = {SELECTED_TAGS[k]: k for k in SELECTED_TAGS}"
   ]
  },
  {
   "cell_type": "code",
   "execution_count": 9,
   "metadata": {},
   "outputs": [
    {
     "name": "stdout",
     "output_type": "stream",
     "text": [
      "In ALL_TAGS:\n",
      "Commonly         0     O          [4141]                        \n",
      "seen             0     O          [2464]                        \n",
      "mammals          0     O          [11993]                       \n",
      "include          0     O          [2421]                        \n",
      "the              0     O          [1996]                        \n",
      "coyote           0     O          [20457]                       \n",
      ",                0     O          [1010]                        \n",
      "rock             7     B-ANIM     [2600]                        \n",
      "squirrel         8     I-ANIM     [18197]                       \n",
      ",                0     O          [1010]                        \n",
      "Gunnison         7     B-ANIM     [22079, 10929]                \n",
      "'s               8     I-ANIM     [1005, 1055]                  \n",
      "prairie          8     I-ANIM     [10996]                       \n",
      "dog              8     I-ANIM     [3899]                        \n",
      ",                0     O          [1010]                        \n",
      "desert           0     O          [5532]                        \n",
      "cottontail       0     O          [6557, 14162]                 \n",
      ",                0     O          [1010]                        \n",
      "and              0     O          [1998]                        \n",
      "black-tailed     7     B-ANIM     [2304, 1011, 14578]           \n",
      "jackrabbit       8     I-ANIM     [2990, 2527, 10322, 4183]     \n",
      ".                0     O          [1012]                        \n",
      "\n",
      "\n",
      "In SELECTED_TAGS:\n",
      "token     label     tag        \n",
      "4141      0         O          \n",
      "2464      0         O          \n",
      "11993     0         O          \n",
      "2421      0         O          \n",
      "1996      0         O          \n",
      "20457     0         O          \n",
      "1010      0         O          \n",
      "2600      9         B-ANIM     \n",
      "18197     10        I-ANIM     \n",
      "1010      0         O          \n",
      "22079     9         B-ANIM     \n",
      "10929     9         B-ANIM     \n",
      "1005      10        I-ANIM     \n",
      "1055      10        I-ANIM     \n",
      "10996     10        I-ANIM     \n",
      "3899      10        I-ANIM     \n",
      "1010      0         O          \n",
      "5532      0         O          \n",
      "6557      0         O          \n",
      "14162     0         O          \n",
      "1010      0         O          \n",
      "1998      0         O          \n",
      "2304      9         B-ANIM     \n",
      "1011      9         B-ANIM     \n",
      "14578     9         B-ANIM     \n",
      "2990      10        I-ANIM     \n",
      "2527      10        I-ANIM     \n",
      "10322     10        I-ANIM     \n",
      "4183      10        I-ANIM     \n",
      "1012      0         O          \n"
     ]
    }
   ],
   "source": [
    "index = 5\n",
    "tokens = dataset.original_tokens[index]\n",
    "labels = dataset.original_labels[index]\n",
    "tags = [all_idx2label[l] for l in labels]\n",
    "tokenized_tokens = dataset.tokenized_tokens[index]\n",
    "aligned_tokens = dataset.aligned_tokens[index]\n",
    "aligned_labels = dataset.aligned_labels[index]\n",
    "aligned_tags = [sel_idx2label[i] for i in aligned_labels]\n",
    "\n",
    "print(\"In ALL_TAGS:\")\n",
    "align_show_in_terminal(tokens, labels, tags, tokenized_tokens, truncate=False)\n",
    "print(\"\\n\")\n",
    "print(\"In SELECTED_TAGS:\")\n",
    "align_show_in_terminal(\n",
    "    aligned_tokens, aligned_labels, aligned_tags,\n",
    "    truncate=False, header=['token', 'label', 'tag'])\n"
   ]
  },
  {
   "cell_type": "code",
   "execution_count": null,
   "metadata": {},
   "outputs": [],
   "source": []
  }
 ],
 "metadata": {
  "kernelspec": {
   "display_name": "LLM-Eval",
   "language": "python",
   "name": "python3"
  },
  "language_info": {
   "codemirror_mode": {
    "name": "ipython",
    "version": 3
   },
   "file_extension": ".py",
   "mimetype": "text/x-python",
   "name": "python",
   "nbconvert_exporter": "python",
   "pygments_lexer": "ipython3",
   "version": "3.11.3"
  }
 },
 "nbformat": 4,
 "nbformat_minor": 2
}
